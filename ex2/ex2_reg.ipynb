{
 "cells": [
  {
   "cell_type": "markdown",
   "metadata": {
    "collapsed": true,
    "pycharm": {
     "name": "#%% md\n"
    }
   },
   "source": [
    "正则化"
   ]
  },
  {
   "cell_type": "code",
   "execution_count": 1,
   "metadata": {
    "pycharm": {
     "name": "#%% Initialization\n"
    }
   },
   "outputs": [],
   "source": [
    "import numpy as np\n",
    "import pandas as pd\n",
    "import matplotlib.pyplot as plt\n",
    "import scipy.optimize as opt\n",
    "\n",
    "from ex2.costFunctionReg import costFunctionReg\n",
    "from ex2.mapFeature import mapFeature\n",
    "from ex2.plotData import plotData\n",
    "from ex2.plotDecisionBoundary import plotDecisionBoundary\n",
    "from ex2.predict import predict"
   ]
  },
  {
   "cell_type": "code",
   "execution_count": 2,
   "metadata": {
    "pycharm": {
     "name": "#%%\n"
    }
   },
   "outputs": [
    {
     "data": {
      "image/png": "[encoded data removed]",
      "text/plain": [
       "<Figure size 864x576 with 1 Axes>"
      ]
     },
     "metadata": {
      "needs_background": "light"
     },
     "output_type": "display_data"
    }
   ],
   "source": [
    "# Load Data\n",
    "#  The first two columns contains the X values and the third column\n",
    "#  contains the label (y).\n",
    "\n",
    "data = pd.read_csv('ex2data2.txt', header=None)\n",
    "X = np.array(data.iloc[:, 0:2])\n",
    "y = np.array(data.iloc[:, 2]).reshape(-1, 1)\n",
    "\n",
    "ax = plotData(X, y)\n",
    "\n",
    "# Labels and Legend\n",
    "h, _ = ax.get_legend_handles_labels()\n",
    "ax.set_xlabel('Microchip Test 1')\n",
    "ax.set_ylabel('Microchip Test 2')\n",
    "# Specified in plot order\n",
    "ax.legend(h, ['y = 1', 'y = 0'])\n",
    "\n",
    "plt.show()"
   ]
  },
  {
   "cell_type": "code",
   "execution_count": 3,
   "metadata": {
    "pycharm": {
     "name": "#%%\n"
    }
   },
   "outputs": [
    {
     "data": {
      "text/plain": [
       "(118, 28)"
      ]
     },
     "execution_count": 3,
     "metadata": {},
     "output_type": "execute_result"
    }
   ],
   "source": [
    "# =========== Part 1: Regularized Logistic Regression ============\n",
    "#  In this part, you are given a dataset with data points that are not\n",
    "#  linearly separable. However, you would still like to use logistic\n",
    "#  regression to classify the data points.\n",
    "#\n",
    "#  To do so, you introduce more features to use -- in particular, you add\n",
    "#  polynomial features to our data matrix (similar to polynomial\n",
    "#  regression).\n",
    "#\n",
    "\n",
    "# Add Polynomial Features\n",
    "\n",
    "# Note that mapFeature also adds a column of ones for us, so the intercept\n",
    "# term is handled\n",
    "X = mapFeature(X[:, 0], X[:, 1])\n",
    "X.shape"
   ]
  },
  {
   "cell_type": "code",
   "execution_count": 4,
   "metadata": {
    "pycharm": {
     "name": "#%%\n"
    }
   },
   "outputs": [
    {
     "name": "stdout",
     "output_type": "stream",
     "text": [
      "Cost at initial theta (zeros): 0.693\n",
      "Expected cost (approx): 0.693\n",
      "Gradient at initial theta (zeros) - first five values only:\n",
      "\n"
     ]
    }
   ],
   "source": [
    "# Initialize fitting parameters\n",
    "initial_theta = np.zeros((1, X.shape[1]))\n",
    "# 源码乱糟糟的，一下行向量一下列向量，干脆统一theta为行向量吧\n",
    "\n",
    "# Set regularization parameter lambda to 1\n",
    "_lambda = 1\n",
    "\n",
    "# Compute and display initial cost and gradient for regularized logistic\n",
    "# regression\n",
    "cost, grad = costFunctionReg(initial_theta, X, y, _lambda)\n",
    "\n",
    "print('Cost at initial theta (zeros): %.3f' % cost)\n",
    "print('Expected cost (approx): 0.693')\n",
    "print('Gradient at initial theta (zeros) - first five values only:\\n')\n",
    "grad_list = grad[:, 0:5].tolist()[0]\n",
    "print('  {:.4f} {:.4f} {:.4f} {:.4f} {:.4f}'.format(*list(grad_list)))\n",
    "print('Expected gradients (approx) - first five values only:')\n",
    "print(' 0.0085\\n 0.0188\\n 0.0001\\n 0.0503\\n 0.0115')\n",
    "\n",
    "# Compute and display cost and gradient\n",
    "# with all-ones theta and lambda = 10\n",
    "test_theta = np.ones((1, X.shape[1]))\n",
    "cost, grad = costFunctionReg(test_theta, X, y, 10)\n",
    "\n",
    "print('\\nCost at test theta (with lambda = 10): %.2f' % cost)\n",
    "print('Expected cost (approx): 3.16')\n",
    "print('Gradient at test theta - first five values only:')\n",
    "grad_list = grad[:, 0:5].tolist()[0]\n",
    "print('  {:.4f} {:.4f} {:.4f} {:.4f} {:.4f}'.format(*list(grad_list)))\n",
    "print('Expected gradients (approx) - first five values only:')\n",
    "print(' 0.3460\\n 0.1614\\n 0.1948\\n 0.2269\\n 0.0922\\n')"
   ]
  },
  {
   "cell_type": "code",
   "execution_count": null,
   "outputs": [],
   "source": [
    "# 函数分离\n",
    "def costF(theta, X, y, _lambda):\n",
    "    re, _ = costFunctionReg(theta, X, y, _lambda)\n",
    "    return re\n",
    "\n",
    "\n",
    "def gradF(theta, X, y, _lambda):\n",
    "    _, re = costFunctionReg(theta, X, y, _lambda)\n",
    "    return re\n"
   ],
   "metadata": {
    "collapsed": false,
    "pycharm": {
     "name": "#%%\n"
    }
   }
  },
  {
   "cell_type": "code",
   "execution_count": null,
   "outputs": [],
   "source": [
    "# Initialize fitting parameters\n",
    "initial_theta = np.zeros((1, X.shape[1])).reshape(1, -1)\n",
    "\n",
    "# Set regularization parameter lambda to 1 (you should vary this)\n",
    "_lambda = 1  # 0过拟合，100欠拟合\n",
    "\n",
    "# Optimize\n",
    "\n",
    "theta, _, _ = opt.fmin_tnc(func=costF, x0=initial_theta, fprime=gradF, args=(X, y, _lambda))\n",
    "\n",
    "# Plot Boundary\n",
    "ax = plotDecisionBoundary(theta, X, y)\n",
    "plt.title('lambda = {:.2f}'.format(_lambda))\n",
    "\n",
    "# Labels and Legend\n",
    "ax.set_xlabel('Microchip Test 1')\n",
    "ax.set_ylabel('Microchip Test 2')\n",
    "\n",
    "h, _ = ax.get_legend_handles_labels()\n",
    "ax.legend(h, ['y = 1', 'y = 0'])\n",
    "# 这里我实在没办法为边界添加图例了...问题不大\n",
    "\n",
    "# Compute accuracy on our training set\n",
    "p = predict(theta, X)\n",
    "\n",
    "print('Train Accuracy: %.1f' % (np.mean(p == y) * 100))\n",
    "print('Expected accuracy (with lambda = 1): 83.1 (approx)')"
   ],
   "metadata": {
    "collapsed": false,
    "pycharm": {
     "name": "#%%\n"
    }
   }
  }
 ],
 "metadata": {
  "kernelspec": {
   "display_name": "Python 3",
   "language": "python",
   "name": "python3"
  },
  "language_info": {
   "codemirror_mode": {
    "name": "ipython",
    "version": 3
   },
   "file_extension": ".py",
   "mimetype": "text/x-python",
   "name": "python",
   "nbconvert_exporter": "python",
   "pygments_lexer": "ipython3",
   "version": "3.8.3"
  }
 },
 "nbformat": 4,
 "nbformat_minor": 1
}