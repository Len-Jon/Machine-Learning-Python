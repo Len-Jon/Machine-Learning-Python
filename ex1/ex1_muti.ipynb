{
 "cells": [
  {
   "cell_type": "code",
   "execution_count": 1,
   "outputs": [],
   "source": [
    "# Initialization\n",
    "import sys\n",
    "import numpy as np\n",
    "import pandas as pd\n",
    "import matplotlib.pyplot as plt\n",
    "sys.path.append('../')\n",
    "from ex1.featureNormalize import featureNormalize\n",
    "from ex1.gradientDescentMulti import gradientDescentMulti\n",
    "from ex1.normalEqn import normalEqn"
   ],
   "metadata": {
    "collapsed": false,
    "pycharm": {
     "name": "#%%\n"
    }
   }
  },
  {
   "cell_type": "code",
   "execution_count": 2,
   "outputs": [
    {
     "name": "stdout",
     "output_type": "stream",
     "text": [
      "Loading data ...\n",
      "First 10 examples from the dataset: \n"
     ]
    },
    {
     "data": {
      "text/plain": "   Size  Bedrooms   Price\n0  2104         3  399900\n1  1600         3  329900\n2  2400         3  369000\n3  1416         2  232000\n4  3000         4  539900\n5  1985         4  299900\n6  1534         3  314900\n7  1427         3  198999\n8  1380         3  212000\n9  1494         3  242500",
      "text/html": "<div>\n<style scoped>\n    .dataframe tbody tr th:only-of-type {\n        vertical-align: middle;\n    }\n\n    .dataframe tbody tr th {\n        vertical-align: top;\n    }\n\n    .dataframe thead th {\n        text-align: right;\n    }\n</style>\n<table border=\"1\" class=\"dataframe\">\n  <thead>\n    <tr style=\"text-align: right;\">\n      <th></th>\n      <th>Size</th>\n      <th>Bedrooms</th>\n      <th>Price</th>\n    </tr>\n  </thead>\n  <tbody>\n    <tr>\n      <th>0</th>\n      <td>2104</td>\n      <td>3</td>\n      <td>399900</td>\n    </tr>\n    <tr>\n      <th>1</th>\n      <td>1600</td>\n      <td>3</td>\n      <td>329900</td>\n    </tr>\n    <tr>\n      <th>2</th>\n      <td>2400</td>\n      <td>3</td>\n      <td>369000</td>\n    </tr>\n    <tr>\n      <th>3</th>\n      <td>1416</td>\n      <td>2</td>\n      <td>232000</td>\n    </tr>\n    <tr>\n      <th>4</th>\n      <td>3000</td>\n      <td>4</td>\n      <td>539900</td>\n    </tr>\n    <tr>\n      <th>5</th>\n      <td>1985</td>\n      <td>4</td>\n      <td>299900</td>\n    </tr>\n    <tr>\n      <th>6</th>\n      <td>1534</td>\n      <td>3</td>\n      <td>314900</td>\n    </tr>\n    <tr>\n      <th>7</th>\n      <td>1427</td>\n      <td>3</td>\n      <td>198999</td>\n    </tr>\n    <tr>\n      <th>8</th>\n      <td>1380</td>\n      <td>3</td>\n      <td>212000</td>\n    </tr>\n    <tr>\n      <th>9</th>\n      <td>1494</td>\n      <td>3</td>\n      <td>242500</td>\n    </tr>\n  </tbody>\n</table>\n</div>"
     },
     "execution_count": 2,
     "metadata": {},
     "output_type": "execute_result"
    }
   ],
   "source": [
    "# ================ Part 1: Feature Normalization ================\n",
    "print('Loading data ...')\n",
    "\n",
    "# Load Data\n",
    "data = pd.read_csv('ex1data2.txt', header=None, names=['Size', 'Bedrooms', 'Price'])\n",
    "X = np.array(data.iloc[:, 0:2])\n",
    "y = np.array(data.iloc[:, 2]).reshape(-1, 1)\n",
    "m = len(y)\n",
    "# Print out some data points\n",
    "print('First 10 examples from the dataset: ')\n",
    "data.head(10)"
   ],
   "metadata": {
    "collapsed": false,
    "pycharm": {
     "name": "#%%\n"
    }
   }
  },
  {
   "cell_type": "code",
   "execution_count": 3,
   "outputs": [
    {
     "name": "stdout",
     "output_type": "stream",
     "text": [
      "Normalizing Features ...\n"
     ]
    }
   ],
   "source": [
    "# Scale features and set them to zero mean\n",
    "print('Normalizing Features ...')\n",
    "\n",
    "X, mu, sigma = featureNormalize(X)\n",
    "# 提示，由于numpy提供的标准差精度很高，答案会与MATLAB稍有差别\n",
    "# sigma为    [7.86202619e+02 7.52842809e-01]\n",
    "# MATLAB下为  [794.702354 0.760982]\n",
    "\n",
    "# Add intercept term to X\n",
    "X = np.insert(X, 0, np.ones(m), axis=1)"
   ],
   "metadata": {
    "collapsed": false,
    "pycharm": {
     "name": "#%%\n"
    }
   }
  },
  {
   "cell_type": "code",
   "execution_count": 4,
   "outputs": [
    {
     "name": "stdout",
     "output_type": "stream",
     "text": [
      "Running gradient descent ...\n",
      "图像自己比对pdf\n",
      "Theta computed from gradient descent: \n",
      "[[334302.06399328  99411.44947359   3267.01285407]]\n",
      "\n",
      "MATLAB下为\n",
      "334302.063993\n",
      "100087.116006\n",
      "3673.548451\n",
      "由于精度差异，误差不大即可\n",
      "鄙人的答案是\n",
      "[[334302.06399328  99411.44947359   3267.01285407]]\n",
      " \n"
     ]
    },
    {
     "data": {
      "text/plain": "<Figure size 432x288 with 1 Axes>",
      "image/png": "[encoded data removed]"
     },
     "metadata": {
      "needs_background": "light"
     },
     "output_type": "display_data"
    }
   ],
   "source": [
    "\"\"\"\n",
    "%% ================ Part 2: Gradient Descent ================\n",
    "\n",
    "% ====================== YOUR CODE HERE ======================\n",
    "% Instructions: We have provided you with the following starter\n",
    "%               code that runs gradient descent with a particular\n",
    "%               learning rate (alpha). \n",
    "%\n",
    "%               Your task is to first make sure that your functions - \n",
    "%               computeCost and gradientDescent already work with \n",
    "%               this starter code and support multiple variables.\n",
    "%\n",
    "%               After that, try running gradient descent with \n",
    "%               different values of alpha and see which one gives\n",
    "%               you the best result.\n",
    "%\n",
    "%               Finally, you should complete the code at the end\n",
    "%               to predict the price of a 1650 sq-ft, 3 br house.\n",
    "%\n",
    "%\n",
    "% Hint: At prediction, make sure you do the same feature normalization.\n",
    "%\n",
    "\"\"\"\n",
    "print('Running gradient descent ...\\n图像自己比对pdf')\n",
    "# Choose some alpha value\n",
    "alpha = 0.01\n",
    "num_iters = 400\n",
    "\n",
    "# Init Theta and Run Gradient Descent\n",
    "theta = np.zeros((3, 1))\n",
    "theta, J_history = gradientDescentMulti(X, y, theta, alpha, num_iters)\n",
    "\n",
    "# Plot the convergence graph\n",
    "plt.plot(np.arange(len(J_history)), J_history)\n",
    "plt.xlabel('Number of iterations')\n",
    "plt.ylabel('Cost J')\n",
    "plt.show()\n",
    "\n",
    "# Display gradient descent's result\n",
    "print('Theta computed from gradient descent: ')\n",
    "print(theta)\n",
    "print('''\n",
    "MATLAB下为\n",
    "334302.063993\n",
    "100087.116006\n",
    "3673.548451\n",
    "由于精度差异，误差不大即可\n",
    "鄙人的答案是\n",
    "[[334302.06399328  99411.44947359   3267.01285407]]\n",
    " ''')"
   ],
   "metadata": {
    "collapsed": false,
    "pycharm": {
     "name": "#%%\n"
    }
   }
  },
  {
   "cell_type": "code",
   "execution_count": 5,
   "outputs": [
    {
     "name": "stdout",
     "output_type": "stream",
     "text": [
      "[[ 1.         -0.44604386 -0.22609337]]\n",
      "\n",
      "Predicted price of a 1650 sq-ft, 3 br house (using gradient descent):\n",
      " $ 289221.547371\n",
      "\n",
      "MATLAB下为$281100.583639\n",
      "鄙人的答案是289221.54737122\n"
     ]
    }
   ],
   "source": [
    "\"\"\"\n",
    "% Estimate the price of a 1650 sq-ft, 3 br house\n",
    "% ====================== YOUR CODE HERE ======================\n",
    "% Recall that the first column of X is all-ones. Thus, it does\n",
    "% not need to be normalized.\n",
    "\"\"\"\n",
    "\n",
    "price = 0  # You should change this\n",
    "pass\n",
    "# mydata = (np.array([[1650, 3]]) - mu) / sigma\n",
    "# mydata = mydata.T\n",
    "# mydata = np.insert(mydata, 0, np.ones(1)).reshape(1, -1)\n",
    "# print(mydata)\n",
    "# price = mydata @ theta.T\n",
    "# ========== END ==========\n",
    "print()\n",
    "print('Predicted price of a 1650 sq-ft, 3 br house (using gradient descent):\\n $ %f' % price)\n",
    "print()\n",
    "print('MATLAB下为$281100.583639\\n鄙人的答案是289221.54737122')"
   ],
   "metadata": {
    "collapsed": false,
    "pycharm": {
     "name": "#%%\n"
    }
   }
  },
  {
   "cell_type": "code",
   "execution_count": 6,
   "outputs": [
    {
     "name": "stdout",
     "output_type": "stream",
     "text": [
      "Solving with normal equations...\n",
      "\n",
      "Theta computed from the normal equations: \n",
      "\n",
      "[[87807.75019324]\n",
      " [  138.75587842]\n",
      " [-8186.38287595]]\n",
      "\n",
      "Predicted price of a 1650 sq-ft, 3 br house (using normal equations):\n",
      " $ 292195.800951\n",
      "\n",
      "MATLAB答案为 293081.464335\n",
      "鄙人的答案为  292195.800951\n"
     ]
    }
   ],
   "source": [
    "print('Solving with normal equations...\\n')\n",
    "\"\"\"\n",
    "% ====================== YOUR CODE HERE ======================\n",
    "% Instructions: The following code computes the closed form \n",
    "%               solution for linear regression using the normal\n",
    "%               equations. You should complete the code in \n",
    "%               normalEqn.m\n",
    "%\n",
    "%               After doing so, you should complete this code \n",
    "%               to predict the price of a 1650 sq-ft, 3 br house.\n",
    "%\n",
    "\"\"\"\n",
    "# Load Data\n",
    "data = pd.read_csv('ex1data2.txt')\n",
    "X = np.array(data.iloc[:, 0:2])\n",
    "y = np.array(data.iloc[:, 2]).reshape(-1, 1)\n",
    "m = len(y)\n",
    "\n",
    "# Add intercept term to X\n",
    "X = np.insert(X, 0, np.ones(m), axis=1)\n",
    "\n",
    "# Calculate the parameters from the normal equation\n",
    "theta = normalEqn(X, y)\n",
    "\n",
    "# Display normal equation's result\n",
    "print('Theta computed from the normal equations: \\n')\n",
    "print(theta)\n",
    "print()\n",
    "\n",
    "# Estimate the price of a 1650 sq-ft, 3 br house\n",
    "# ====================== YOUR CODE HERE ======================\n",
    "price = 0  # You should change this\n",
    "pass\n",
    "# price = np.array([[1, 1650, 3]]) @ theta\n",
    "# ========== END ==========\n",
    "print('Predicted price of a 1650 sq-ft, 3 br house (using normal equations):\\n $ %f' % price)\n",
    "print()\n",
    "print('MATLAB答案为 293081.464335')\n",
    "print('鄙人的答案为  292195.800951')"
   ],
   "metadata": {
    "collapsed": false,
    "pycharm": {
     "name": "#%%\n"
    }
   }
  }
 ],
 "metadata": {
  "kernelspec": {
   "display_name": "Python 3",
   "language": "python",
   "name": "python3"
  },
  "language_info": {
   "codemirror_mode": {
    "name": "ipython",
    "version": 3
   },
   "file_extension": ".py",
   "mimetype": "text/x-python",
   "name": "python",
   "nbconvert_exporter": "python",
   "pygments_lexer": "ipython3",
   "version": "3.8.3"
  }
 },
 "nbformat": 4,
 "nbformat_minor": 1
}