{
 "cells": [
  {
   "cell_type": "markdown",
   "metadata": {},
   "source": [
    " ## Machine Learning Online Class\n",
    "\n",
    " Exercise 6 | Spam Classification with SVMs\n",
    "\n",
    " Instructions\n",
    "\n",
    " ------------\n",
    " \n",
    "  This file contains code that helps you get started on the\n",
    "  exercise. You will need to complete the following functions:\n",
    "\n",
    "     gaussianKernel.m\n",
    "     dataset3Params.m\n",
    "     processEmail.m\n",
    "     emailFeatures.m\n",
    "\n",
    "  For this exercise, you will not need to change any code in this file,\n",
    "  or any other files other than those mentioned above."
   ]
  },
  {
   "cell_type": "code",
   "execution_count": 1,
   "metadata": {
    "pycharm": {
     "name": "#%%\n"
    }
   },
   "outputs": [],
   "source": [
    "import sys\n",
    "from scipy.io import loadmat\n",
    "from sklearn.svm import SVC, LinearSVC\n",
    "import numpy as np\n",
    "sys.path.append('../')\n",
    "from ex6.processEmail import *\n",
    "from ex6.emailFeatures import emailFeatures"
   ]
  },
  {
   "cell_type": "code",
   "execution_count": 2,
   "metadata": {
    "pycharm": {
     "name": "#%%\n"
    }
   },
   "outputs": [
    {
     "name": "stdout",
     "output_type": "stream",
     "text": [
      "Preprocessing sample email (emailSample1.txt)\n",
      "==== Processed Email ====\n",
      "\n",
      "anyon know how much it cost to host a web portal well it depend on how mani visitor you re expect thi can be anywher from less than number buck a month to a coupl of dollarnumb you should checkout httpaddr or perhap amazon ecnumb if your run someth big to unsubscrib yourself from thi mail list send an email to emailaddr\n",
      "\n",
      "=========================\n",
      "Word Indices: \n",
      "\n",
      "[86, 916, 794, 1077, 883, 370, 1699, 790, 1822, 1831, 883, 431, 1171, 794, 1002, 1893, 1364, 592, 1676, 238, 162, 89, 688, 945, 1663, 1120, 1062, 1699, 375, 1162, 479, 1893, 1510, 799, 1182, 1237, 810, 1895, 1440, 1547, 181, 1699, 1758, 1896, 688, 1676, 992, 961, 1477, 71, 530, 1699, 531]\n"
     ]
    }
   ],
   "source": [
    "# ==================== Part 1: Email Preprocessing ====================\n",
    "#  To use an SVM to classify emails into Spam v.s. Non-Spam, you first need\n",
    "#  to convert each email into a vector of features. In this part, you will\n",
    "#  implement the preprocessing steps for each email. You should\n",
    "#  complete the code in processEmail.m to produce a word indices vector\n",
    "#  for a given email.\n",
    "\n",
    "print('Preprocessing sample email (emailSample1.txt)')\n",
    "\n",
    "# Extract Features\n",
    "with open('data/emailSample1.txt', 'r') as f:\n",
    "    file_contents = f.read()\n",
    "\n",
    "word_indices = processEmail(file_contents)\n",
    "\n",
    "print(\"\"\"\n",
    "=========================\n",
    "Word Indices: \n",
    "\"\"\")\n",
    "print(word_indices)"
   ]
  },
  {
   "cell_type": "code",
   "execution_count": 3,
   "metadata": {
    "pycharm": {
     "name": "#%%\n"
    }
   },
   "outputs": [
    {
     "name": "stdout",
     "output_type": "stream",
     "text": [
      "Extracting features from sample email (emailSample1.txt)\n",
      "==== Processed Email ====\n",
      "\n",
      "anyon know how much it cost to host a web portal well it depend on how mani visitor you re expect thi can be anywher from less than number buck a month to a coupl of dollarnumb you should checkout httpaddr or perhap amazon ecnumb if your run someth big to unsubscrib yourself from thi mail list send an email to emailaddr\n",
      "Length of feature vector: 1899\n",
      "Number of non-zero entries: 45\n",
      "\n",
      "期望输出：\n",
      "Length of feature vector: 1899\n",
      "Number of non-zero entries: 45\n",
      "\n"
     ]
    }
   ],
   "source": [
    "## ==================== Part 2: Feature Extraction ====================\n",
    "#  Now, you will convert each email into a vector of features in R^n.\n",
    "#  You should complete the code in emailFeatures.m to produce a feature\n",
    "#  vector for a given email.\n",
    "\n",
    "print('Extracting features from sample email (emailSample1.txt)')\n",
    "\n",
    "# Extract Features\n",
    "with open('data/emailSample1.txt', 'r') as f:\n",
    "    file_contents = f.read()\n",
    "word_indices = processEmail(file_contents)\n",
    "features = emailFeatures(word_indices)\n",
    "\n",
    "# Print Stats\n",
    "print('Length of feature vector: %d' % len(features))\n",
    "print('Number of non-zero entries: %d' % sum(features > 0))\n",
    "\n",
    "print(\"\"\"\n",
    "期望输出：\n",
    "Length of feature vector: 1899\n",
    "Number of non-zero entries: 45\n",
    "\"\"\")"
   ]
  },
  {
   "cell_type": "code",
   "execution_count": 4,
   "metadata": {
    "pycharm": {
     "name": "#%%\n"
    }
   },
   "outputs": [
    {
     "name": "stdout",
     "output_type": "stream",
     "text": [
      "\n",
      "Training Linear SVM (Spam Classification)\n",
      "(this may take 1 to 2 minutes) ...\n",
      "Training Accuracy: 0.998250\n"
     ]
    }
   ],
   "source": [
    "# =========== Part 3: Train Linear SVM for Spam Classification ========\n",
    "#  In this section, you will train a linear classifier to determine if an\n",
    "#  email is Spam or Not-Spam.\n",
    "\n",
    "# Load the Spam Email dataset\n",
    "# You will have X, y in your environment\n",
    "data = loadmat('./data/spamTrain.mat')\n",
    "\n",
    "X, y = data['X'], data['y']\n",
    "\n",
    "print('\\nTraining Linear SVM (Spam Classification)')\n",
    "print('(this may take 1 to 2 minutes) ...')\n",
    "\n",
    "C = 0.1\n",
    "model = SVC(C=C, kernel='linear')  # 线性\n",
    "model.fit(X, y.ravel())  # 训练数据\n",
    "p = model.score(X, y)\n",
    "print('Training Accuracy: %f' % p)"
   ]
  },
  {
   "cell_type": "code",
   "execution_count": 5,
   "metadata": {
    "pycharm": {
     "name": "#%%\n"
    }
   },
   "outputs": [
    {
     "name": "stdout",
     "output_type": "stream",
     "text": [
      "Evaluating the trained Linear SVM on a test set ...\n",
      "Test Accuracy: 0.989000\n"
     ]
    }
   ],
   "source": [
    "# =================== Part 4: Test Spam Classification ================\n",
    "#  After training the classifier, we can evaluate it on a test set. We have\n",
    "#  included a test set in spamTest.mat\n",
    "\n",
    "# Load the test dataset\n",
    "# You will have Xtest, ytest in your environment\n",
    "data = loadmat('./data/spamTest.mat')\n",
    "Xtest, ytest = data['Xtest'], data['ytest']\n",
    "\n",
    "print('Evaluating the trained Linear SVM on a test set ...')\n",
    "\n",
    "p = model.score(Xtest, ytest)\n",
    "\n",
    "print('Test Accuracy: %f' % p)"
   ]
  },
  {
   "cell_type": "markdown",
   "metadata": {
    "pycharm": {
     "name": "#%% md\n"
    }
   },
   "source": [
    "## ================= Part 5: Top Predictors of Spam ====================\n",
    "\n",
    "Since the model we are training is a linear SVM, we can inspect the\n",
    "weights learned by the model to understand better how it is determining\n",
    "whether an email is spam or not. The following code finds the words with\n",
    "the highest weights in the classifier. Informally, the classifier 'thinks' that these words are the most likely indicators of spam.\n",
    "\n",
    "这一部分是按结果的权重显示单词的，但是用的这个库返回的model里没有这个属性"
   ]
  },
  {
   "cell_type": "code",
   "execution_count": 6,
   "metadata": {
    "pycharm": {
     "name": "#%%\n"
    }
   },
   "outputs": [
    {
     "name": "stdout",
     "output_type": "stream",
     "text": [
      "==== Processed Email ====\n",
      "\n",
      "folk my first time post have a bit of unix experi but am new to linux just got a new pc at home dell box with window xp ad a second hard diskfor linux partit the disk and have instal suse number number from cd which wentfin except it didn t pick up my monitor i have a dell brand enumberfpp number lcd flat panel monitor and a nvidia geforcenumbertinumb video card both of which are probabl too new to featur in suse s defaultset i download a driver from the nvidia websit and instal it use rpm then i ran saxnumb as wa recommend in some post i found on the net butit still doesn t featur my video card in the avail list what next anoth problem i have a dell brand keyboard and if i hit cap lock twice the whole machin crash in linux not window even the on off switch isinact leav me to reach for the power cabl instead if anyon can help me in ani way with these prob i d be realli grate i ve search the net but have run out of idea or should i be go for a differ version of linux such as redhat opinionswelcom thank a lot peter irish linux user group emailaddrhttpaddr for un subscript inform list maintain emailaddr\n",
      "\n",
      "Processed ./data/emailSample2.txt\n",
      "\n",
      "Spam Classification: [0]\n",
      "(1 indicates spam, 0 indicates not spam)\n"
     ]
    }
   ],
   "source": [
    "# =================== Part 6: Try Your Own Emails =====================\n",
    "#  Now that you've trained the spam classifier, you can use it on your own\n",
    "#  emails! In the starter code, we have included spamSample1.txt,\n",
    "#  spamSample2.txt, emailSample1.txt and emailSample2.txt as examples.\n",
    "#  The following code reads in one of these emails and then uses your\n",
    "#  learned SVM classifier to determine whether the email is Spam or\n",
    "#  Not Spam\n",
    "\n",
    "# Set the file to be read in (change this to spamSample2.txt,\n",
    "# emailSample1.txt or emailSample2.txt to see different predictions on\n",
    "# different emails types). Try your own emails as well!\n",
    "\"\"\"\n",
    "这一部分有问题\n",
    "\"\"\"\n",
    "filename = './data/emailSample2.txt'  \n",
    "\n",
    "# Read and predict\n",
    "with open(filename, 'r') as f:\n",
    "    file_contents = f.read()\n",
    "word_indices = processEmail(file_contents)\n",
    "x = emailFeatures(word_indices)\n",
    "p = model.predict(x.reshape(1, -1))\n",
    "\n",
    "print('\\nProcessed {}\\n\\nSpam Classification: {}'.format(filename, p))\n",
    "print('(1 indicates spam, 0 indicates not spam)')"
   ]
  }
 ],
 "metadata": {
  "kernelspec": {
   "display_name": "Python 3",
   "language": "python",
   "name": "python3"
  },
  "language_info": {
   "codemirror_mode": {
    "name": "ipython",
    "version": 3
   },
   "file_extension": ".py",
   "mimetype": "text/x-python",
   "name": "python",
   "nbconvert_exporter": "python",
   "pygments_lexer": "ipython3",
   "version": "3.8.3"
  }
 },
 "nbformat": 4,
 "nbformat_minor": 1
}